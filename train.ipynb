{
 "cells": [
  {
   "cell_type": "markdown",
   "id": "91aa9875-6f2b-4cdc-8f00-d694ecb79876",
   "metadata": {},
   "source": [
    "# Extract name and addresses from italian documents"
   ]
  },
  {
   "cell_type": "markdown",
   "id": "2c3ecb9d-a309-482b-8195-c985bfd4b6a0",
   "metadata": {},
   "source": [
    "## Setup environment"
   ]
  },
  {
   "cell_type": "code",
   "execution_count": 3,
   "id": "5c6194de-1950-4db4-9648-0e2c3efa5488",
   "metadata": {},
   "outputs": [],
   "source": [
    "# !pip install random_italian_person"
   ]
  },
  {
   "cell_type": "markdown",
   "id": "a8a69c1b-28f4-4cc8-95f2-7d089cc0550c",
   "metadata": {},
   "source": [
    "```\n",
    "“Street” (Detected: VIA FERRUCCIO PARRI 2),\n",
    "“Address” (Detected: 42049 SANT'ILARIO D'ENZA RE),\n",
    "“Name”( Detected: FRANCO FANTE * this is also incorrect recognition , on the picture is “FANTI”)\n",
    "```"
   ]
  },
  {
   "cell_type": "markdown",
   "id": "041c4cd2-d95b-45ac-9c56-a029969d0f7c",
   "metadata": {},
   "source": [
    "## Create synthetic dataset of italian entities (`nome`,`via`,`indirizzo`)"
   ]
  },
  {
   "cell_type": "code",
   "execution_count": null,
   "id": "849e7ce8-b57e-4057-844c-0d84c41c1fa3",
   "metadata": {},
   "outputs": [],
   "source": [
    "import re\n",
    "import pandas as pd\n",
    "from random_italian_person import RandomItalianPerson"
   ]
  },
  {
   "cell_type": "code",
   "execution_count": 71,
   "id": "345e015d-f6c4-4f35-8ba0-76b7d62b2ce1",
   "metadata": {},
   "outputs": [],
   "source": [
    "# create synthetic data\n",
    "data = []\n",
    "for _ in range(10000):\n",
    "    try:\n",
    "        data.append( RandomItalianPerson().data )\n",
    "    except Exception:\n",
    "        continue\n",
    "        \n",
    "df = pd.DataFrame(data)"
   ]
  },
  {
   "cell_type": "code",
   "execution_count": 84,
   "id": "f340fb82-4eaa-4f22-bb2f-fd4f6993a0ed",
   "metadata": {},
   "outputs": [
    {
     "data": {
      "text/html": [
       "<div>\n",
       "<style scoped>\n",
       "    .dataframe tbody tr th:only-of-type {\n",
       "        vertical-align: middle;\n",
       "    }\n",
       "\n",
       "    .dataframe tbody tr th {\n",
       "        vertical-align: top;\n",
       "    }\n",
       "\n",
       "    .dataframe thead th {\n",
       "        text-align: right;\n",
       "    }\n",
       "</style>\n",
       "<table border=\"1\" class=\"dataframe\">\n",
       "  <thead>\n",
       "    <tr style=\"text-align: right;\">\n",
       "      <th></th>\n",
       "      <th>region</th>\n",
       "      <th>province</th>\n",
       "      <th>surname</th>\n",
       "      <th>name</th>\n",
       "      <th>sex</th>\n",
       "      <th>birth_municipality</th>\n",
       "      <th>birth_province</th>\n",
       "      <th>birth_region</th>\n",
       "      <th>birth_cap</th>\n",
       "      <th>birth_province_code</th>\n",
       "      <th>birthdate</th>\n",
       "      <th>address</th>\n",
       "      <th>house_number</th>\n",
       "      <th>cap</th>\n",
       "      <th>municipality</th>\n",
       "      <th>province_code</th>\n",
       "      <th>codice_fiscale</th>\n",
       "    </tr>\n",
       "  </thead>\n",
       "  <tbody>\n",
       "    <tr>\n",
       "      <th>0</th>\n",
       "      <td>Campania</td>\n",
       "      <td>Salerno</td>\n",
       "      <td>Brumat</td>\n",
       "      <td>Nicola</td>\n",
       "      <td>M</td>\n",
       "      <td>Romans D'isonzo</td>\n",
       "      <td>Gorizia</td>\n",
       "      <td>Friuli Venezia Giulia</td>\n",
       "      <td>34076</td>\n",
       "      <td>GO</td>\n",
       "      <td>1951-01-17</td>\n",
       "      <td>Via T. De Cusatis</td>\n",
       "      <td>8</td>\n",
       "      <td>84070</td>\n",
       "      <td>San Mauro La Bruca</td>\n",
       "      <td>SA</td>\n",
       "      <td>BRMNCL51A17H514X</td>\n",
       "    </tr>\n",
       "    <tr>\n",
       "      <th>1</th>\n",
       "      <td>Sicilia</td>\n",
       "      <td>Catania</td>\n",
       "      <td>Babini</td>\n",
       "      <td>Luca</td>\n",
       "      <td>M</td>\n",
       "      <td>Cervia</td>\n",
       "      <td>Ravenna</td>\n",
       "      <td>Emilia Romagna</td>\n",
       "      <td>48015</td>\n",
       "      <td>RA</td>\n",
       "      <td>1930-12-21</td>\n",
       "      <td>Via Carlo Felice Gambino</td>\n",
       "      <td>52</td>\n",
       "      <td>95131</td>\n",
       "      <td>Catania</td>\n",
       "      <td>CT</td>\n",
       "      <td>BBNLCU30T21C553D</td>\n",
       "    </tr>\n",
       "    <tr>\n",
       "      <th>2</th>\n",
       "      <td>Lombardia</td>\n",
       "      <td>Brescia</td>\n",
       "      <td>Di Stefano</td>\n",
       "      <td>Giuseppina</td>\n",
       "      <td>F</td>\n",
       "      <td>Carapelle Calvisio</td>\n",
       "      <td>L'Aquila</td>\n",
       "      <td>Abruzzo</td>\n",
       "      <td>67020</td>\n",
       "      <td>AQ</td>\n",
       "      <td>1972-03-07</td>\n",
       "      <td>Via Rose Di Sotto</td>\n",
       "      <td>2/a</td>\n",
       "      <td>25126</td>\n",
       "      <td>Brescia</td>\n",
       "      <td>BS</td>\n",
       "      <td>DSTGPP72C47B725L</td>\n",
       "    </tr>\n",
       "    <tr>\n",
       "      <th>3</th>\n",
       "      <td>Campania</td>\n",
       "      <td>Salerno</td>\n",
       "      <td>Colombo</td>\n",
       "      <td>Elisabetta</td>\n",
       "      <td>F</td>\n",
       "      <td>Casaleggio Novara</td>\n",
       "      <td>Novara</td>\n",
       "      <td>Piemonte</td>\n",
       "      <td>28060</td>\n",
       "      <td>NO</td>\n",
       "      <td>1925-05-24</td>\n",
       "      <td>Via Guerrasio</td>\n",
       "      <td>32</td>\n",
       "      <td>84083</td>\n",
       "      <td>Castel San Giorgio</td>\n",
       "      <td>SA</td>\n",
       "      <td>CLMLBT25E64B883D</td>\n",
       "    </tr>\n",
       "    <tr>\n",
       "      <th>4</th>\n",
       "      <td>Lombardia</td>\n",
       "      <td>Brescia</td>\n",
       "      <td>Palladino</td>\n",
       "      <td>Rachid</td>\n",
       "      <td>M</td>\n",
       "      <td>San Polo Matese</td>\n",
       "      <td>Campobasso</td>\n",
       "      <td>Molise</td>\n",
       "      <td>86020</td>\n",
       "      <td>CB</td>\n",
       "      <td>1923-01-29</td>\n",
       "      <td>Via Europa</td>\n",
       "      <td>156</td>\n",
       "      <td>25062</td>\n",
       "      <td>Concesio</td>\n",
       "      <td>BS</td>\n",
       "      <td>PLLRHD23A29I122Y</td>\n",
       "    </tr>\n",
       "  </tbody>\n",
       "</table>\n",
       "</div>"
      ],
      "text/plain": [
       "      region province     surname        name sex  birth_municipality  \\\n",
       "0   Campania  Salerno      Brumat      Nicola   M     Romans D'isonzo   \n",
       "1    Sicilia  Catania      Babini        Luca   M              Cervia   \n",
       "2  Lombardia  Brescia  Di Stefano  Giuseppina   F  Carapelle Calvisio   \n",
       "3   Campania  Salerno     Colombo  Elisabetta   F   Casaleggio Novara   \n",
       "4  Lombardia  Brescia   Palladino      Rachid   M     San Polo Matese   \n",
       "\n",
       "  birth_province           birth_region birth_cap birth_province_code  \\\n",
       "0        Gorizia  Friuli Venezia Giulia     34076                  GO   \n",
       "1        Ravenna         Emilia Romagna     48015                  RA   \n",
       "2       L'Aquila                Abruzzo     67020                  AQ   \n",
       "3         Novara               Piemonte     28060                  NO   \n",
       "4     Campobasso                 Molise     86020                  CB   \n",
       "\n",
       "    birthdate                   address house_number    cap  \\\n",
       "0  1951-01-17         Via T. De Cusatis            8  84070   \n",
       "1  1930-12-21  Via Carlo Felice Gambino           52  95131   \n",
       "2  1972-03-07         Via Rose Di Sotto          2/a  25126   \n",
       "3  1925-05-24             Via Guerrasio           32  84083   \n",
       "4  1923-01-29                Via Europa          156  25062   \n",
       "\n",
       "         municipality province_code    codice_fiscale  \n",
       "0  San Mauro La Bruca            SA  BRMNCL51A17H514X  \n",
       "1             Catania            CT  BBNLCU30T21C553D  \n",
       "2             Brescia            BS  DSTGPP72C47B725L  \n",
       "3  Castel San Giorgio            SA  CLMLBT25E64B883D  \n",
       "4            Concesio            BS  PLLRHD23A29I122Y  "
      ]
     },
     "execution_count": 84,
     "metadata": {},
     "output_type": "execute_result"
    }
   ],
   "source": [
    "df.head()"
   ]
  },
  {
   "cell_type": "code",
   "execution_count": 72,
   "id": "94ac81e0-569e-4d73-9cb3-0db2770384a6",
   "metadata": {},
   "outputs": [],
   "source": [
    "def clean(string):\n",
    "    text = re.sub('\\W+',' ', str(string))\n",
    "    return text.lower().strip()"
   ]
  },
  {
   "cell_type": "code",
   "execution_count": 73,
   "id": "969ac8e2-b4ab-4556-bdd2-1cb63b95b69b",
   "metadata": {},
   "outputs": [],
   "source": [
    "# populate lists\n",
    "nome = []\n",
    "via = []\n",
    "indirizzo = []\n",
    "\n",
    "for row in df.itertuples():\n",
    "    nome.append(\n",
    "        {\n",
    "            'Text': ' '.join([clean(row.name), clean(row.surname)]),\n",
    "            'Type': 'nome',\n",
    "        }\n",
    "    )\n",
    "    via.append(\n",
    "        {\n",
    "            'Text': ' '.join([clean(row.address).lower(), clean(row.house_number)]),\n",
    "            'Type': 'via',\n",
    "        }\n",
    "    )\n",
    "    indirizzo.append(\n",
    "        {\n",
    "            'Text': ' '.join([clean(row.cap), clean(row.municipality), clean(row.province_code)]),\n",
    "            'Type': 'indirizzo',\n",
    "        }\n",
    "    )"
   ]
  },
  {
   "cell_type": "code",
   "execution_count": 74,
   "id": "edf83976-c0df-4ff3-9274-d939cc83ebc5",
   "metadata": {},
   "outputs": [],
   "source": [
    "# remove duplicates to avoid \"overlapping entities\" error\n",
    "nome = [dict(tupleized) for tupleized in set(tuple(item.items()) for item in nome)]\n",
    "via = [dict(tupleized) for tupleized in set(tuple(item.items()) for item in via)]\n",
    "indirizzo = [dict(tupleized) for tupleized in set(tuple(item.items()) for item in indirizzo)]"
   ]
  },
  {
   "cell_type": "code",
   "execution_count": 75,
   "id": "7ef17638-21fc-4450-9444-f1444cd77254",
   "metadata": {},
   "outputs": [],
   "source": [
    "# create dataframes\n",
    "df_nome = pd.DataFrame.from_dict(nome)\n",
    "df_via = pd.DataFrame.from_dict(via)\n",
    "df_indirizzo = pd.DataFrame.from_dict(indirizzo)"
   ]
  },
  {
   "cell_type": "code",
   "execution_count": 80,
   "id": "a91e8974-5f4f-4a8f-8913-c29738d737b6",
   "metadata": {},
   "outputs": [
    {
     "name": "stdout",
     "output_type": "stream",
     "text": [
      "# of rows: 20530\n"
     ]
    }
   ],
   "source": [
    "# concat dataframes\n",
    "df_comprehend = pd.concat([df_nome,df_via,df_indirizzo]).reset_index(drop=True)\n",
    "print(f'# of rows: {len(df_comprehend)}')"
   ]
  },
  {
   "cell_type": "code",
   "execution_count": 81,
   "id": "f0ed38b2-1cca-468e-83c6-a89660ed7cc8",
   "metadata": {},
   "outputs": [],
   "source": [
    "df_comprehend.to_csv('data.csv',index=False)"
   ]
  },
  {
   "cell_type": "markdown",
   "id": "80c36f2a-acc8-41db-a7ff-c7597ce325ac",
   "metadata": {},
   "source": [
    "## Detecting custom entities using the AWS SDK for Python (Boto3)\n",
    "- https://docs.aws.amazon.com/comprehend/latest/dg/get-started-cer.html"
   ]
  },
  {
   "cell_type": "code",
   "execution_count": null,
   "id": "4a779f71-d73a-4a4a-8fb3-e7fcd737f70d",
   "metadata": {},
   "outputs": [],
   "source": [
    "import boto3\n",
    "import uuid\n",
    "comprehend = boto3.client(\"comprehend\", region_name=\"eu-west-1\")"
   ]
  },
  {
   "cell_type": "code",
   "execution_count": null,
   "id": "e356e0d7-e38c-4a22-a2f5-30808ff37893",
   "metadata": {},
   "outputs": [],
   "source": [
    "# create entity recognizer\n",
    "response = comprehend.create_entity_recognizer(\n",
    "    RecognizerName=\"Recognizer-Name-Goes-Here-{}\".format(str(uuid.uuid4())),\n",
    "    LanguageCode=\"en\",\n",
    "    DataAccessRoleArn=\"Role ARN\",\n",
    "    InputDataConfig={\n",
    "        \"EntityTypes\": [\n",
    "            {\n",
    "                \"Type\": \"ENTITY_TYPE\"\n",
    "            }\n",
    "        ],\n",
    "        \"Documents\": {\n",
    "            \"S3Uri\": \"s3://Bucket Name/Bucket Path/documents\"\n",
    "        },\n",
    "        \"Annotations\": {\n",
    "            \"S3Uri\": \"s3://Bucket Name/Bucket Path/annotations\"\n",
    "        }\n",
    "    }\n",
    ")\n",
    "recognizer_arn = response[\"EntityRecognizerArn\"]"
   ]
  },
  {
   "cell_type": "code",
   "execution_count": null,
   "id": "4b189469-90cf-42e4-9044-f09e1fa9247e",
   "metadata": {},
   "outputs": [],
   "source": [
    "# list all recognizers\n",
    "response = comprehend.list_entity_recognizers()"
   ]
  },
  {
   "cell_type": "code",
   "execution_count": null,
   "id": "425f2482-4206-41f6-bf92-7c287c2a7737",
   "metadata": {},
   "outputs": [],
   "source": [
    "# wait for recognizer to reach `TRAINED` status\n",
    "response = comprehend.start_entities_detection_job(\n",
    "    EntityRecognizerArn=recognizer_arn,\n",
    "    JobName=\"Detection-Job-Name-{}\".format(str(uuid.uuid4())),\n",
    "    LanguageCode=\"en\",\n",
    "    DataAccessRoleArn=\"Role ARN\",\n",
    "    InputDataConfig={\n",
    "        \"InputFormat\": \"ONE_DOC_PER_LINE\",\n",
    "        \"S3Uri\": \"s3://Bucket Name/Bucket Path/documents\"\n",
    "    },\n",
    "    OutputDataConfig={\n",
    "        \"S3Uri\": \"s3://Bucket Name/Bucket Path/output\"\n",
    "    }\n",
    ")"
   ]
  },
  {
   "cell_type": "markdown",
   "id": "dd771a97-ed54-4e5c-a643-cc783b4e2c23",
   "metadata": {},
   "source": [
    "## Detecting text in an image using Rekognition\n",
    "- https://docs.aws.amazon.com/rekognition/latest/dg/text-detecting-text-procedure.html"
   ]
  },
  {
   "cell_type": "code",
   "execution_count": null,
   "id": "a7f8dcf1-da7a-472e-a7a4-055c61160f4e",
   "metadata": {},
   "outputs": [],
   "source": [
    "import boto3\n",
    "\n",
    "def detect_text(photo, bucket):\n",
    "    client=boto3.client('rekognition')\n",
    "    response=client.detect_text(Image={'S3Object':{'Bucket':bucket,'Name':photo}})\n",
    "                        \n",
    "    textDetections=response['TextDetections']\n",
    "    print ('Detected text\\n----------')\n",
    "    for text in textDetections:\n",
    "            print ('Detected text:' + text['DetectedText'])\n",
    "            print ('Confidence: ' + \"{:.2f}\".format(text['Confidence']) + \"%\")\n",
    "            print ('Id: {}'.format(text['Id']))\n",
    "            if 'ParentId' in text:\n",
    "                print ('Parent Id: {}'.format(text['ParentId']))\n",
    "            print ('Type:' + text['Type'])\n",
    "            print()\n",
    "    return textDetections, len(textDetections)"
   ]
  },
  {
   "cell_type": "code",
   "execution_count": null,
   "id": "7666b298-f8d3-4519-8c3f-6057035a5d0e",
   "metadata": {},
   "outputs": [],
   "source": [
    "bucket = 'bucket'\n",
    "photo = 'photo'\n",
    "response, text_count = detect_text(photo,bucket)"
   ]
  },
  {
   "cell_type": "code",
   "execution_count": null,
   "id": "411a1f32-e680-4305-adf0-a72e8a9f3579",
   "metadata": {},
   "outputs": [],
   "source": [
    "print(\"Text detected: \" + str(text_count))"
   ]
  },
  {
   "cell_type": "markdown",
   "id": "19c63582-97e9-401d-8ece-b1d211091eb5",
   "metadata": {},
   "source": [
    "## Extract entities using Comprehend Custom"
   ]
  },
  {
   "cell_type": "code",
   "execution_count": null,
   "id": "6e5d31eb-37f9-4d01-9fc5-63f515676dd3",
   "metadata": {},
   "outputs": [],
   "source": [
    "https://pypi.org/project/random-italian-person/"
   ]
  }
 ],
 "metadata": {
  "kernelspec": {
   "display_name": "default:Python",
   "language": "python",
   "name": "conda-env-default-py"
  },
  "language_info": {
   "codemirror_mode": {
    "name": "ipython",
    "version": 3
   },
   "file_extension": ".py",
   "mimetype": "text/x-python",
   "name": "python",
   "nbconvert_exporter": "python",
   "pygments_lexer": "ipython3",
   "version": "3.9.13"
  }
 },
 "nbformat": 4,
 "nbformat_minor": 5
}
