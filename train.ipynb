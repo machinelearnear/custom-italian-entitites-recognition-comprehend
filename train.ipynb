{
 "cells": [
  {
   "cell_type": "markdown",
   "id": "06a9f7fd-3105-4358-ac2d-baf0b14b4c70",
   "metadata": {},
   "source": [
    "[![Open In SageMaker Studio Lab](https://studiolab.sagemaker.aws/studiolab.svg)](https://studiolab.sagemaker.aws/import/github/machinelearnear/custom-italian-entitites-recognition-comprehend/blob/main/train.ipynb)"
   ]
  },
  {
   "cell_type": "markdown",
   "id": "91aa9875-6f2b-4cdc-8f00-d694ecb79876",
   "metadata": {},
   "source": [
    "# Extract name and addresses from italian documents"
   ]
  },
  {
   "cell_type": "markdown",
   "id": "774d020f-d217-45b5-b6c5-33a2dac9a87c",
   "metadata": {
    "tags": []
   },
   "source": [
    "## Setup your pipeline"
   ]
  },
  {
   "cell_type": "code",
   "execution_count": null,
   "id": "1c00a764-64dd-4f63-a4a6-a8a02f557ef3",
   "metadata": {},
   "outputs": [],
   "source": [
    "# !pip install random_italian_person"
   ]
  },
  {
   "cell_type": "code",
   "execution_count": null,
   "id": "0778b064-792a-40fa-89b9-d0135eb4422d",
   "metadata": {},
   "outputs": [],
   "source": [
    "import boto3\n",
    "import uuid\n",
    "import re\n",
    "import pandas as pd\n",
    "from random_italian_person import RandomItalianPerson"
   ]
  },
  {
   "cell_type": "markdown",
   "id": "041c4cd2-d95b-45ac-9c56-a029969d0f7c",
   "metadata": {},
   "source": [
    "### Create synthetic dataset of italian entities (`nome`,`via`,`indirizzo`)"
   ]
  },
  {
   "cell_type": "code",
   "execution_count": 126,
   "id": "f540e246-1fd6-4773-b3c4-1961607e92ff",
   "metadata": {},
   "outputs": [],
   "source": [
    "output_fname = 'entitylist.csv'\n",
    "n_samples = 10000"
   ]
  },
  {
   "cell_type": "code",
   "execution_count": 191,
   "id": "345e015d-f6c4-4f35-8ba0-76b7d62b2ce1",
   "metadata": {},
   "outputs": [],
   "source": [
    "# create synthetic data\n",
    "data = []\n",
    "for _ in range(n_samples):\n",
    "    try:\n",
    "        data.append( RandomItalianPerson().data )\n",
    "    except Exception:\n",
    "        continue\n",
    "        \n",
    "df = pd.DataFrame(data)\n",
    "df = df.apply(lambda x: x.astype(str).str.upper())"
   ]
  },
  {
   "cell_type": "code",
   "execution_count": 192,
   "id": "b38417ce-9795-4eb1-baa4-404f8eebaa07",
   "metadata": {},
   "outputs": [
    {
     "data": {
      "text/html": [
       "<div>\n",
       "<style scoped>\n",
       "    .dataframe tbody tr th:only-of-type {\n",
       "        vertical-align: middle;\n",
       "    }\n",
       "\n",
       "    .dataframe tbody tr th {\n",
       "        vertical-align: top;\n",
       "    }\n",
       "\n",
       "    .dataframe thead th {\n",
       "        text-align: right;\n",
       "    }\n",
       "</style>\n",
       "<table border=\"1\" class=\"dataframe\">\n",
       "  <thead>\n",
       "    <tr style=\"text-align: right;\">\n",
       "      <th></th>\n",
       "      <th>region</th>\n",
       "      <th>province</th>\n",
       "      <th>surname</th>\n",
       "      <th>name</th>\n",
       "      <th>sex</th>\n",
       "      <th>birth_municipality</th>\n",
       "      <th>birth_province</th>\n",
       "      <th>birth_region</th>\n",
       "      <th>birth_cap</th>\n",
       "      <th>birth_province_code</th>\n",
       "      <th>birthdate</th>\n",
       "      <th>address</th>\n",
       "      <th>house_number</th>\n",
       "      <th>cap</th>\n",
       "      <th>municipality</th>\n",
       "      <th>province_code</th>\n",
       "      <th>codice_fiscale</th>\n",
       "    </tr>\n",
       "  </thead>\n",
       "  <tbody>\n",
       "    <tr>\n",
       "      <th>0</th>\n",
       "      <td>Calabria</td>\n",
       "      <td>Cosenza</td>\n",
       "      <td>Sanna</td>\n",
       "      <td>Tiziana</td>\n",
       "      <td>F</td>\n",
       "      <td>Padru</td>\n",
       "      <td>Olbia Tempio</td>\n",
       "      <td>Sardegna</td>\n",
       "      <td>07020</td>\n",
       "      <td>OT</td>\n",
       "      <td>1969-07-23</td>\n",
       "      <td>Contrada Acqua Di Fico</td>\n",
       "      <td>61</td>\n",
       "      <td>87043</td>\n",
       "      <td>Bisignano</td>\n",
       "      <td>CS</td>\n",
       "      <td>SNNTZN69L63M301E</td>\n",
       "    </tr>\n",
       "    <tr>\n",
       "      <th>1</th>\n",
       "      <td>Lombardia</td>\n",
       "      <td>Milano</td>\n",
       "      <td>Vella</td>\n",
       "      <td>Alberto</td>\n",
       "      <td>M</td>\n",
       "      <td>Casteltermini</td>\n",
       "      <td>Agrigento</td>\n",
       "      <td>Sicilia</td>\n",
       "      <td>92025</td>\n",
       "      <td>AG</td>\n",
       "      <td>1966-06-14</td>\n",
       "      <td>Piazza Lombardia</td>\n",
       "      <td>18</td>\n",
       "      <td>20020</td>\n",
       "      <td>Lazzate</td>\n",
       "      <td>MI</td>\n",
       "      <td>VLLLRT66H14C275I</td>\n",
       "    </tr>\n",
       "    <tr>\n",
       "      <th>2</th>\n",
       "      <td>Puglia</td>\n",
       "      <td>Bari</td>\n",
       "      <td>Ricci</td>\n",
       "      <td>Calogera</td>\n",
       "      <td>F</td>\n",
       "      <td>Parrano</td>\n",
       "      <td>Terni</td>\n",
       "      <td>Umbria</td>\n",
       "      <td>05010</td>\n",
       "      <td>TR</td>\n",
       "      <td>1970-08-23</td>\n",
       "      <td>Via Angiulli</td>\n",
       "      <td>17</td>\n",
       "      <td>70013</td>\n",
       "      <td>Castellana Grotte</td>\n",
       "      <td>BA</td>\n",
       "      <td>RCCCGR70M63G344T</td>\n",
       "    </tr>\n",
       "  </tbody>\n",
       "</table>\n",
       "</div>"
      ],
      "text/plain": [
       "      region province surname      name sex birth_municipality birth_province  \\\n",
       "0   Calabria  Cosenza   Sanna   Tiziana   F              Padru   Olbia Tempio   \n",
       "1  Lombardia   Milano   Vella   Alberto   M      Casteltermini      Agrigento   \n",
       "2     Puglia     Bari   Ricci  Calogera   F            Parrano          Terni   \n",
       "\n",
       "  birth_region birth_cap birth_province_code   birthdate  \\\n",
       "0     Sardegna     07020                  OT  1969-07-23   \n",
       "1      Sicilia     92025                  AG  1966-06-14   \n",
       "2       Umbria     05010                  TR  1970-08-23   \n",
       "\n",
       "                  address house_number    cap       municipality  \\\n",
       "0  Contrada Acqua Di Fico           61  87043          Bisignano   \n",
       "1        Piazza Lombardia           18  20020            Lazzate   \n",
       "2            Via Angiulli           17  70013  Castellana Grotte   \n",
       "\n",
       "  province_code    codice_fiscale  \n",
       "0            CS  SNNTZN69L63M301E  \n",
       "1            MI  VLLLRT66H14C275I  \n",
       "2            BA  RCCCGR70M63G344T  "
      ]
     },
     "execution_count": 192,
     "metadata": {},
     "output_type": "execute_result"
    }
   ],
   "source": [
    "df.head(3)"
   ]
  },
  {
   "cell_type": "code",
   "execution_count": 229,
   "id": "cc5c86b3-7f64-4c7f-ae2b-e8fc5887e0af",
   "metadata": {},
   "outputs": [],
   "source": [
    "# # remove overlapping entities\n",
    "# df.drop(df[df.name.apply(lambda x: len(x.split())) > 1].index, inplace=True)\n",
    "# df.drop(df[df.surname.apply(lambda x: len(x.split())) > 1].index, inplace=True)\n",
    "\n",
    "# for col in ['name','surname']:\n",
    "#     df.drop(df[df.apply(lambda x: x[col] in x['address'],axis=1)].index, inplace=True)\n",
    "#     df.drop(df[df.apply(lambda x: x[col] in x['municipality'],axis=1)].index, inplace=True)\n",
    "    \n",
    "# # df.drop(df[df.apply(lambda x: x['municipality'] in x['address'],axis=1)].index, inplace=True)"
   ]
  },
  {
   "cell_type": "code",
   "execution_count": 230,
   "id": "95defc18-ad44-426f-9142-3d322b571e05",
   "metadata": {},
   "outputs": [],
   "source": [
    "# remove overlapping entities\n",
    "df.drop(df[df.name.apply(lambda x: len(x.split())) > 1].index, inplace=True)\n",
    "df.drop(df[df.surname.apply(lambda x: len(x.split())) > 1].index, inplace=True)\n",
    "\n",
    "for col in ['name','surname']:\n",
    "    for row in df[col]:\n",
    "        df.drop(df[df.address.str.contains(row)].index,inplace=True)"
   ]
  },
  {
   "cell_type": "code",
   "execution_count": 234,
   "id": "94ac81e0-569e-4d73-9cb3-0db2770384a6",
   "metadata": {},
   "outputs": [],
   "source": [
    "def fix(text):\n",
    "    # text = re.sub(r\"[^a-zA-Z0-9]+\",'', str(string))\n",
    "    text = str(text)\n",
    "    if len(text.split()) > 1:\n",
    "        return ' '.join([remove_special_characters(s) for s in text.split() if len(s) >= 3])\n",
    "    else:\n",
    "        return remove_special_characters(text)\n",
    "    \n",
    "def remove_special_characters(text):\n",
    "    return ''.join(item for item in text if item.isalnum()).upper().strip()"
   ]
  },
  {
   "cell_type": "code",
   "execution_count": 235,
   "id": "8e10e9a6-560c-4da4-a7ee-0019e7f4ad67",
   "metadata": {},
   "outputs": [],
   "source": [
    "nome = [f'{fix(row.name)} {fix(row.surname)}' for row in df.itertuples()]\n",
    "via = [f'{fix(row.address)} {fix(row.house_number)}' for row in df.itertuples()]\n",
    "indirizzo = [f'{fix(row.cap)} {fix(row.municipality)} {fix(row.province_code)}' for row in df.itertuples()]       "
   ]
  },
  {
   "cell_type": "markdown",
   "id": "1c583045-0f7e-4adc-87a4-9c9d06f554c3",
   "metadata": {},
   "source": [
    "#### Using `csv`"
   ]
  },
  {
   "cell_type": "code",
   "execution_count": 236,
   "id": "208babbc-9b77-4f54-9c3a-6f48944353e7",
   "metadata": {},
   "outputs": [],
   "source": [
    "import csv \n",
    "with open(output_fname, \"w\", encoding=\"utf-8\") as csv_file:\n",
    "    csv_writer = csv.writer(csv_file)\n",
    "    csv_writer.writerow([\"Text\", \"Type\"])\n",
    "    for i in set(nome): csv_writer.writerow([i, \"nome\"])\n",
    "    for i in set(via): csv_writer.writerow([i, \"via\"])\n",
    "    for i in set(indirizzo): csv_writer.writerow([i, \"indirizzo\"])"
   ]
  },
  {
   "cell_type": "markdown",
   "id": "2c289a09-e642-477a-995e-a6f11a8413f8",
   "metadata": {},
   "source": [
    "#### Using `Pandas`"
   ]
  },
  {
   "cell_type": "code",
   "execution_count": 37,
   "id": "ca247a74-8f73-4a23-9877-643f5df05c18",
   "metadata": {},
   "outputs": [],
   "source": [
    "# create dataframes\n",
    "df_nome = pd.DataFrame.from_dict(set(nome))\n",
    "df_via = pd.DataFrame.from_dict(set(via))\n",
    "df_indirizzo = pd.DataFrame.from_dict(set(indirizzo))"
   ]
  },
  {
   "cell_type": "code",
   "execution_count": 38,
   "id": "bce9431f-1590-4a5e-823f-b47f62b50e75",
   "metadata": {},
   "outputs": [],
   "source": [
    "# add entity type\n",
    "df_nome['Type'] = 'nome'\n",
    "df_via['Type'] = 'via'\n",
    "df_indirizzo['Type'] = 'indirizzo'"
   ]
  },
  {
   "cell_type": "code",
   "execution_count": 39,
   "id": "43d5249c-766e-4ef4-bdea-d86159ed3c05",
   "metadata": {},
   "outputs": [
    {
     "name": "stdout",
     "output_type": "stream",
     "text": [
      "# of rows: 20475\n"
     ]
    }
   ],
   "source": [
    "# concat dataframes\n",
    "df_comprehend = pd.concat([df_nome,df_via,df_indirizzo]).reset_index(drop=True)\n",
    "df_comprehend.columns = ['Text','Type']\n",
    "\n",
    "print(f'# of rows: {len(df_comprehend)}')"
   ]
  },
  {
   "cell_type": "code",
   "execution_count": 40,
   "id": "f0ed38b2-1cca-468e-83c6-a89660ed7cc8",
   "metadata": {},
   "outputs": [],
   "source": [
    "df_comprehend.to_csv(output_fname,index=False)"
   ]
  },
  {
   "cell_type": "markdown",
   "id": "80c36f2a-acc8-41db-a7ff-c7597ce325ac",
   "metadata": {
    "tags": []
   },
   "source": [
    "### Detecting custom entities using the AWS SDK for Python (`Boto3`)\n",
    "- https://docs.aws.amazon.com/comprehend/latest/dg/get-started-cer.html"
   ]
  },
  {
   "cell_type": "markdown",
   "id": "7c728fa3-18c0-4d17-ac32-85a4eed72c54",
   "metadata": {},
   "source": [
    "**Uncomment below to train your custom entity recognizer through the Python SDK**"
   ]
  },
  {
   "cell_type": "code",
   "execution_count": 32,
   "id": "4a779f71-d73a-4a4a-8fb3-e7fcd737f70d",
   "metadata": {},
   "outputs": [],
   "source": [
    "# comprehend = boto3.client(\"comprehend\", region_name=\"eu-west-1\")"
   ]
  },
  {
   "cell_type": "code",
   "execution_count": 33,
   "id": "e356e0d7-e38c-4a22-a2f5-30808ff37893",
   "metadata": {},
   "outputs": [],
   "source": [
    "# # create entity recognizer\n",
    "# response = comprehend.create_entity_recognizer(\n",
    "#     RecognizerName=\"Recognizer-Name-Goes-Here-{}\".format(str(uuid.uuid4())),\n",
    "#     LanguageCode=\"en\",\n",
    "#     DataAccessRoleArn=\"Role ARN\",\n",
    "#     InputDataConfig={\n",
    "#         \"EntityTypes\": [\n",
    "#             {\n",
    "#                 \"Type\": \"ENTITY_TYPE\"\n",
    "#             }\n",
    "#         ],\n",
    "#         \"Documents\": {\n",
    "#             \"S3Uri\": \"s3://Bucket Name/Bucket Path/documents\"\n",
    "#         },\n",
    "#         \"Annotations\": {\n",
    "#             \"S3Uri\": \"s3://Bucket Name/Bucket Path/annotations\"\n",
    "#         }\n",
    "#     }\n",
    "# )\n",
    "# recognizer_arn = response[\"EntityRecognizerArn\"]"
   ]
  },
  {
   "cell_type": "code",
   "execution_count": 34,
   "id": "4b189469-90cf-42e4-9044-f09e1fa9247e",
   "metadata": {},
   "outputs": [],
   "source": [
    "# list all recognizers\n",
    "# response = comprehend.list_entity_recognizers()"
   ]
  },
  {
   "cell_type": "markdown",
   "id": "060cc98c-d461-4102-b5fe-5ca54e2699aa",
   "metadata": {},
   "source": [
    "## Run your detection"
   ]
  },
  {
   "cell_type": "markdown",
   "id": "dd771a97-ed54-4e5c-a643-cc783b4e2c23",
   "metadata": {},
   "source": [
    "### Detecting text in an image using Rekognition\n",
    "- https://docs.aws.amazon.com/rekognition/latest/dg/text-detecting-text-procedure.html"
   ]
  },
  {
   "cell_type": "code",
   "execution_count": null,
   "id": "a7f8dcf1-da7a-472e-a7a4-055c61160f4e",
   "metadata": {},
   "outputs": [],
   "source": [
    "def detect_text(photo, bucket):\n",
    "    client=boto3.client('rekognition')\n",
    "    response=client.detect_text(Image={'S3Object':{'Bucket':bucket,'Name':photo}})\n",
    "                        \n",
    "    textDetections=response['TextDetections']\n",
    "    print ('Detected text\\n----------')\n",
    "    for text in textDetections:\n",
    "            print ('Detected text:' + text['DetectedText'])\n",
    "            print ('Confidence: ' + \"{:.2f}\".format(text['Confidence']) + \"%\")\n",
    "            print ('Id: {}'.format(text['Id']))\n",
    "            if 'ParentId' in text:\n",
    "                print ('Parent Id: {}'.format(text['ParentId']))\n",
    "            print ('Type:' + text['Type'])\n",
    "            print()\n",
    "    return textDetections, len(textDetections)"
   ]
  },
  {
   "cell_type": "code",
   "execution_count": null,
   "id": "7666b298-f8d3-4519-8c3f-6057035a5d0e",
   "metadata": {},
   "outputs": [],
   "source": [
    "bucket = 'bucket'\n",
    "photo = 'photo'\n",
    "response, text_count = detect_text(photo,bucket)"
   ]
  },
  {
   "cell_type": "code",
   "execution_count": null,
   "id": "411a1f32-e680-4305-adf0-a72e8a9f3579",
   "metadata": {},
   "outputs": [],
   "source": [
    "print(\"Text detected: \" + str(text_count))"
   ]
  },
  {
   "cell_type": "markdown",
   "id": "19c63582-97e9-401d-8ece-b1d211091eb5",
   "metadata": {},
   "source": [
    "### Extract entities using Comprehend Custom Entity Recognizer"
   ]
  },
  {
   "cell_type": "code",
   "execution_count": null,
   "id": "c91a647d-68a9-4071-b77f-a10f70d80f4f",
   "metadata": {},
   "outputs": [],
   "source": [
    "# wait for recognizer to reach `TRAINED` status\n",
    "response = comprehend.start_entities_detection_job(\n",
    "    EntityRecognizerArn=recognizer_arn,\n",
    "    JobName=\"Detection-Job-Name-{}\".format(str(uuid.uuid4())),\n",
    "    LanguageCode=\"en\",\n",
    "    DataAccessRoleArn=\"Role ARN\",\n",
    "    InputDataConfig={\n",
    "        \"InputFormat\": \"ONE_DOC_PER_LINE\",\n",
    "        \"S3Uri\": \"s3://Bucket Name/Bucket Path/documents\"\n",
    "    },\n",
    "    OutputDataConfig={\n",
    "        \"S3Uri\": \"s3://Bucket Name/Bucket Path/output\"\n",
    "    }\n",
    ")"
   ]
  }
 ],
 "metadata": {
  "kernelspec": {
   "display_name": "default:Python",
   "language": "python",
   "name": "conda-env-default-py"
  },
  "language_info": {
   "codemirror_mode": {
    "name": "ipython",
    "version": 3
   },
   "file_extension": ".py",
   "mimetype": "text/x-python",
   "name": "python",
   "nbconvert_exporter": "python",
   "pygments_lexer": "ipython3",
   "version": "3.9.13"
  }
 },
 "nbformat": 4,
 "nbformat_minor": 5
}
